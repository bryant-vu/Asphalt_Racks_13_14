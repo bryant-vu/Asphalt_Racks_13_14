{
 "cells": [
  {
   "cell_type": "code",
   "execution_count": 1,
   "metadata": {
    "collapsed": false
   },
   "outputs": [
    {
     "name": "stdout",
     "output_type": "stream",
     "text": [
      "WARNING *** OLE2 inconsistency: SSCS size is 0 but SSAT size is non-zero\n"
     ]
    }
   ],
   "source": [
    "import pandas as pd\n",
    "import datetime\n",
    "import xlsxwriter\n",
    "\n",
    "try:\n",
    "    df = pd.read_excel(open(\"rptRackReport_13_14.xls\",'rb'), header = 1)\n",
    "except:\n",
    "    df = pd.read_excel(open(\"rptRackReport.xls\",'rb'), header = 1)\n",
    "    \n",
    "data = df[:-1]"
   ]
  },
  {
   "cell_type": "code",
   "execution_count": 2,
   "metadata": {
    "collapsed": false
   },
   "outputs": [
    {
     "name": "stderr",
     "output_type": "stream",
     "text": [
      "C:\\Anaconda3\\lib\\site-packages\\ipykernel\\__main__.py:9: SettingWithCopyWarning: \n",
      "A value is trying to be set on a copy of a slice from a DataFrame.\n",
      "Try using .loc[row_indexer,col_indexer] = value instead\n",
      "\n",
      "See the caveats in the documentation: http://pandas.pydata.org/pandas-docs/stable/indexing.html#indexing-view-versus-copy\n"
     ]
    }
   ],
   "source": [
    "#Excel uses UTC epoch (1900-01-00); python uses Unix epoch (1970-01-01)\n",
    "#create function to convert Unix to UTC\n",
    "def convert_Unix_to_UTC(time):\n",
    "    epoch_Unix = datetime.datetime(1970,1,1)\n",
    "    epoch_UTC = datetime.datetime(1899,12,31)\n",
    "    diff = epoch_Unix - epoch_UTC\n",
    "    return (time - diff - datetime.timedelta(days=1)) #subtract 1 day to account for 'inclusive' time difference\n",
    "\n",
    "data[\"Text152\"] = pd.to_datetime(data[\"Text152\"],unit='d').apply(convert_Unix_to_UTC)"
   ]
  },
  {
   "cell_type": "code",
   "execution_count": 3,
   "metadata": {
    "collapsed": false,
    "scrolled": true
   },
   "outputs": [
    {
     "name": "stderr",
     "output_type": "stream",
     "text": [
      "C:\\Anaconda3\\lib\\site-packages\\ipykernel\\__main__.py:2: SettingWithCopyWarning: \n",
      "A value is trying to be set on a copy of a slice from a DataFrame.\n",
      "Try using .loc[row_indexer,col_indexer] = value instead\n",
      "\n",
      "See the caveats in the documentation: http://pandas.pydata.org/pandas-docs/stable/indexing.html#indexing-view-versus-copy\n",
      "  from ipykernel import kernelapp as app\n"
     ]
    }
   ],
   "source": [
    "#create year-month column\n",
    "data[\"year_month\"] = data[\"Text152\"].dt.strftime('%Y-%m')"
   ]
  },
  {
   "cell_type": "code",
   "execution_count": 4,
   "metadata": {
    "collapsed": false
   },
   "outputs": [],
   "source": [
    "#C1.25 calcs\n",
    "\n",
    "#sum gallons loaded per month\n",
    "thruput = data.groupby(['year_month'])['Text125'].sum()\n",
    "\n",
    "#compliance status\n",
    "status_thru = []\n",
    "for thru in thruput:\n",
    "    if thru <= 6083333:\n",
    "        stat = 'OK'\n",
    "    else:\n",
    "        stat = 'EXCEEDANCE'\n",
    "    status_thru.append(stat)"
   ]
  },
  {
   "cell_type": "code",
   "execution_count": 5,
   "metadata": {
    "collapsed": false
   },
   "outputs": [],
   "source": [
    "#C6.5 calcs\n",
    "\n",
    "#find max temps for each month\n",
    "max_temps = data.groupby(['year_month'])['Text122'].max()\n",
    "\n",
    "#compliance status\n",
    "status_temp = []\n",
    "for temp in max_temps:\n",
    "    if temp <= 500:\n",
    "        stat = 'OK'\n",
    "    else:\n",
    "        stat = 'EXCEEDANCE'\n",
    "    status_temp.append(stat)"
   ]
  },
  {
   "cell_type": "code",
   "execution_count": 6,
   "metadata": {
    "collapsed": true
   },
   "outputs": [],
   "source": [
    "#extract YYYY-MM dates to write to Excel\n",
    "year_months = pd.unique(data[\"year_month\"])"
   ]
  },
  {
   "cell_type": "code",
   "execution_count": 8,
   "metadata": {
    "collapsed": false
   },
   "outputs": [],
   "source": [
    "#write to Excel\n",
    "#setup workbook and worksheet\n",
    "workbook = xlsxwriter.Workbook('%s to %s_Racks 13 & 14_C1.11 & C6.5.xlsx' %(year_months[0],year_months[-1]))\n",
    "bold = workbook.add_format({'bold':True})\n",
    "num_fmt = workbook.add_format({'num_format':'###,###,###'})\n",
    "worksheet1 = workbook.add_worksheet('Summary')\n",
    "\n",
    "worksheet1.set_column('B:D',15)\n",
    "\n",
    "row = 0\n",
    "col = 0\n",
    "\n",
    "#write C1.11 headerss\n",
    "worksheet1.write(row,col,\"C1.11: Racks 13 and 14 (D29) cannot exceed monthly throughput of 6,083,333 gallons.\",bold)\n",
    "row += 2\n",
    "columns = ['Date','Throughput (gal)','Limit (gal)','Compliance']\n",
    "for header in columns:\n",
    "    worksheet1.write(row,col,header)\n",
    "    col += 1\n",
    "row += 1\n",
    "col = 0\n",
    "\n",
    "#write C1.11 data\n",
    "for i in range(len(thruput)):\n",
    "    worksheet1.write(row,col,year_months[i])\n",
    "    col += 1\n",
    "    worksheet1.write(row,col,thruput[i],num_fmt)\n",
    "    col += 1\n",
    "    worksheet1.write_number(row,col,6083333,num_fmt)\n",
    "    col += 1\n",
    "    worksheet1.write(row,col,status_thru[i])\n",
    "    row += 1\n",
    "    col = 0\n",
    "    \n",
    "row += 1    \n",
    "#write C6.5 headers\n",
    "worksheet1.write(row,col,\"C6.5: Racks 13 and 14 (D29) cannot exceed temperature of 500F.\",bold)\n",
    "row += 2\n",
    "columns = ['Date','Max Temp (F)','Limit (F)','Compliance']\n",
    "for header in columns:\n",
    "    worksheet1.write(row,col,header)\n",
    "    col += 1\n",
    "row += 1\n",
    "col = 0\n",
    "\n",
    "#write C6.5 data\n",
    "for i in range(len(thruput)):\n",
    "    worksheet1.write(row,col,year_months[i])\n",
    "    col += 1\n",
    "    worksheet1.write(row,col,max_temps[i],num_fmt)\n",
    "    col += 1\n",
    "    worksheet1.write_number(row,col,500,num_fmt)\n",
    "    col += 1\n",
    "    worksheet1.write(row,col,status_temp[i])\n",
    "    row += 1\n",
    "    col = 0\n",
    "    \n",
    "workbook.close()"
   ]
  },
  {
   "cell_type": "code",
   "execution_count": null,
   "metadata": {
    "collapsed": true
   },
   "outputs": [],
   "source": []
  }
 ],
 "metadata": {
  "anaconda-cloud": {},
  "kernelspec": {
   "display_name": "Python [conda root]",
   "language": "python",
   "name": "conda-root-py"
  },
  "language_info": {
   "codemirror_mode": {
    "name": "ipython",
    "version": 3
   },
   "file_extension": ".py",
   "mimetype": "text/x-python",
   "name": "python",
   "nbconvert_exporter": "python",
   "pygments_lexer": "ipython3",
   "version": "3.5.2"
  }
 },
 "nbformat": 4,
 "nbformat_minor": 1
}
